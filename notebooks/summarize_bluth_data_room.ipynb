{
 "cells": [
  {
   "cell_type": "code",
   "execution_count": 23,
   "id": "53ce390c-b546-44b2-9bd7-3ad1343317b4",
   "metadata": {
    "tags": []
   },
   "outputs": [],
   "source": [
    "# imports\n",
    "import asyncio\n",
    "import textwrap\n",
    "from pathlib import Path\n",
    "\n",
    "# packages\n",
    "# Kelvin does not require the use of Pandas, but it's a great way to consume and organize results.\n",
    "import pandas\n",
    "from IPython.display import HTML, Markdown, display\n",
    "\n",
    "# kelvin clients\n",
    "from kelvin.api.document_index.async_client import KelvinDocumentIndexAsyncClient\n",
    "from kelvin.api.document_index.commands.load_folder import load_folder\n",
    "from kelvin.api.nlp.async_client import KelvinNLPAsyncClient"
   ]
  },
  {
   "cell_type": "code",
   "execution_count": 2,
   "id": "6d2f0561-89ef-4da3-83fc-4c4e095ecad6",
   "metadata": {
    "tags": []
   },
   "outputs": [],
   "source": [
    "# setup the clients\n",
    "doc_client = KelvinDocumentIndexAsyncClient()\n",
    "nlp_client = KelvinNLPAsyncClient()"
   ]
  },
  {
   "cell_type": "code",
   "execution_count": 14,
   "id": "9ff43474-ec94-4907-9417-b670ccd87a21",
   "metadata": {
    "tags": []
   },
   "outputs": [
    {
     "name": "stderr",
     "output_type": "stream",
     "text": [
      "Queuing files: 100%|██████████████████████████████████████████████████████████████████████████████████████████| 27/27 [00:00<00:00, 2989.29it/s]\n",
      "Uploading files: 100%|██████████████████████████████████████████████████████████████████████████████████████████| 27/27 [00:00<00:00, 87.77it/s]\n"
     ]
    }
   ],
   "source": [
    "# show files we're going to upload\n",
    "data_folder = Path(\"../data/bluth-sample\")\n",
    "await load_folder(data_folder, num_workers=4, progress=True)"
   ]
  },
  {
   "cell_type": "markdown",
   "id": "0e2b7b42-48ba-4eca-b87c-be09df5a6632",
   "metadata": {
    "tags": []
   },
   "source": [
    "## Upload and deduplicate to centralized storage\n",
    "\n",
    "Kelvin makes it easy to upload, organize, deduplicate, and share documents across a deal team."
   ]
  },
  {
   "cell_type": "code",
   "execution_count": 34,
   "id": "42313585-9844-4e07-81bd-23a110fc69c4",
   "metadata": {
    "tags": []
   },
   "outputs": [
    {
     "data": {
      "text/html": [
       "<h1>Document File Instances (deduplicated)</h1>"
      ],
      "text/plain": [
       "<IPython.core.display.HTML object>"
      ]
     },
     "metadata": {},
     "output_type": "display_data"
    },
    {
     "data": {
      "text/html": [
       "<div>\n",
       "<style scoped>\n",
       "    .dataframe tbody tr th:only-of-type {\n",
       "        vertical-align: middle;\n",
       "    }\n",
       "\n",
       "    .dataframe tbody tr th {\n",
       "        vertical-align: top;\n",
       "    }\n",
       "\n",
       "    .dataframe thead th {\n",
       "        text-align: right;\n",
       "    }\n",
       "</style>\n",
       "<table border=\"1\" class=\"dataframe\">\n",
       "  <thead>\n",
       "    <tr style=\"text-align: right;\">\n",
       "      <th></th>\n",
       "      <th>id</th>\n",
       "      <th>document_id</th>\n",
       "      <th>file_name</th>\n",
       "      <th>created_at</th>\n",
       "      <th>updated_at</th>\n",
       "    </tr>\n",
       "  </thead>\n",
       "  <tbody>\n",
       "    <tr>\n",
       "      <th>0</th>\n",
       "      <td>1</td>\n",
       "      <td>1</td>\n",
       "      <td>List of Liabilities.docx</td>\n",
       "      <td>2023-04-21T18:08:53.569800</td>\n",
       "      <td>2023-04-21T18:08:53.569800</td>\n",
       "    </tr>\n",
       "    <tr>\n",
       "      <th>1</th>\n",
       "      <td>2</td>\n",
       "      <td>2</td>\n",
       "      <td>Employee Stock Ownership Plan for the Bluth Co...</td>\n",
       "      <td>2023-04-21T18:08:53.585452</td>\n",
       "      <td>2023-04-21T18:08:53.585452</td>\n",
       "    </tr>\n",
       "    <tr>\n",
       "      <th>2</th>\n",
       "      <td>3</td>\n",
       "      <td>3</td>\n",
       "      <td>Bluth Banana Cloud - Open Source.docx</td>\n",
       "      <td>2023-04-21T18:08:53.585917</td>\n",
       "      <td>2023-04-21T18:08:53.585917</td>\n",
       "    </tr>\n",
       "    <tr>\n",
       "      <th>3</th>\n",
       "      <td>4</td>\n",
       "      <td>4</td>\n",
       "      <td>Cornballer Patent.docx</td>\n",
       "      <td>2023-04-21T18:08:53.748395</td>\n",
       "      <td>2023-04-21T18:08:53.748395</td>\n",
       "    </tr>\n",
       "    <tr>\n",
       "      <th>4</th>\n",
       "      <td>5</td>\n",
       "      <td>5</td>\n",
       "      <td>SWOT Analysis.docx</td>\n",
       "      <td>2023-04-21T18:08:59.048763</td>\n",
       "      <td>2023-04-21T18:08:59.048763</td>\n",
       "    </tr>\n",
       "  </tbody>\n",
       "</table>\n",
       "</div>"
      ],
      "text/plain": [
       "   id  document_id                                          file_name   \n",
       "0   1            1                           List of Liabilities.docx  \\\n",
       "1   2            2  Employee Stock Ownership Plan for the Bluth Co...   \n",
       "2   3            3              Bluth Banana Cloud - Open Source.docx   \n",
       "3   4            4                             Cornballer Patent.docx   \n",
       "4   5            5                                 SWOT Analysis.docx   \n",
       "\n",
       "                   created_at                  updated_at  \n",
       "0  2023-04-21T18:08:53.569800  2023-04-21T18:08:53.569800  \n",
       "1  2023-04-21T18:08:53.585452  2023-04-21T18:08:53.585452  \n",
       "2  2023-04-21T18:08:53.585917  2023-04-21T18:08:53.585917  \n",
       "3  2023-04-21T18:08:53.748395  2023-04-21T18:08:53.748395  \n",
       "4  2023-04-21T18:08:59.048763  2023-04-21T18:08:59.048763  "
      ]
     },
     "metadata": {},
     "output_type": "display_data"
    }
   ],
   "source": [
    "# list the files we loaded\n",
    "document_data = []\n",
    "documents = await doc_client.get_documents()\n",
    "\n",
    "for document in documents:\n",
    "    for document_instance in await doc_client.get_document_instances(document[\"id\"]):\n",
    "        document_data.append(document_instance)\n",
    "\n",
    "        \n",
    "display(HTML(\"<h1>Document File Instances (deduplicated)</h1>\"))\n",
    "display(pandas.DataFrame(document_data).head())"
   ]
  },
  {
   "cell_type": "markdown",
   "id": "03fcb6c2-3f5e-459d-b792-89716f015087",
   "metadata": {},
   "source": [
    "## Automate summarization\n",
    "\n",
    "Use Kelvin to automatically summarize documents across a variety of common formats, including Word, PDF, Excel, PowerPoint, emails, WordPerfect, images, and more."
   ]
  },
  {
   "cell_type": "code",
   "execution_count": 37,
   "id": "8e1d5fce-6fa6-4015-bed8-059ff347f320",
   "metadata": {
    "tags": []
   },
   "outputs": [
    {
     "data": {
      "text/html": [
       "<h3>Summary: List of Liabilities.docx (id=1)</h3>"
      ],
      "text/plain": [
       "<IPython.core.display.HTML object>"
      ]
     },
     "metadata": {},
     "output_type": "display_data"
    },
    {
     "data": {
      "text/html": [
       "<pre>The text lists different types of liabilities, including short and long-term debt, accounts payable, deferred revenue, employee benefits, lease obligations, taxes payable, and warranty liabilities.</pre>"
      ],
      "text/plain": [
       "<IPython.core.display.HTML object>"
      ]
     },
     "metadata": {},
     "output_type": "display_data"
    },
    {
     "data": {
      "text/html": [
       "<h3>Summary: Employee Stock Ownership Plan for the Bluth Company, Inc.pdf (id=2)</h3>"
      ],
      "text/plain": [
       "<IPython.core.display.HTML object>"
      ]
     },
     "metadata": {},
     "output_type": "display_data"
    },
    {
     "data": {
      "text/html": [
       "<pre>The Bluth Company offers an ESOP for employees over 21 who have worked for at least a year. The company contributes a percentage of its net income each year and employees become fully vested after two years or upon reaching age 65. Retirement, disability, death, or termination of employment results in a distribution of the vested account balance in cash or stock.</pre>"
      ],
      "text/plain": [
       "<IPython.core.display.HTML object>"
      ]
     },
     "metadata": {},
     "output_type": "display_data"
    },
    {
     "data": {
      "text/html": [
       "<h3>Summary: Bluth Banana Cloud - Open Source.docx (id=3)</h3>"
      ],
      "text/plain": [
       "<IPython.core.display.HTML object>"
      ]
     },
     "metadata": {},
     "output_type": "display_data"
    },
    {
     "data": {
      "text/html": [
       "<pre>The Bluth Banana Cloud platform utilizes several open source software tools for various purposes such as Apache Tomcat for web hosting, MySQL for database management, Redis for data storage, RabbitMQ for message brokering, Elasticsearch for search and analytics, Logstash for data processing, Kibana for data visualization, Docker for containerization, Kubernetes for container orchestration, and Grafana for data monitoring and visualization.</pre>"
      ],
      "text/plain": [
       "<IPython.core.display.HTML object>"
      ]
     },
     "metadata": {},
     "output_type": "display_data"
    },
    {
     "data": {
      "text/html": [
       "<h3>Summary: Cornballer Patent.docx (id=4)</h3>"
      ],
      "text/plain": [
       "<IPython.core.display.HTML object>"
      ]
     },
     "metadata": {},
     "output_type": "display_data"
    },
    {
     "data": {
      "text/html": [
       "<pre>The document describes the Cornballer, a kitchen appliance designed for quick and efficient cooking of corn balls. It has a non-stick surface, timer and temperature control, as well as a safety mechanism. The appliance is compact and believed to have commercial potential.</pre>"
      ],
      "text/plain": [
       "<IPython.core.display.HTML object>"
      ]
     },
     "metadata": {},
     "output_type": "display_data"
    },
    {
     "data": {
      "text/html": [
       "<h3>Summary: SWOT Analysis.docx (id=5)</h3>"
      ],
      "text/plain": [
       "<IPython.core.display.HTML object>"
      ]
     },
     "metadata": {},
     "output_type": "display_data"
    },
    {
     "data": {
      "text/html": [
       "<pre>The document lists the strengths of a company's unique offering, experienced team, and user-friendly platform, as well as weaknesses such as a limited customer base and marketing efforts. Opportunities for expansion and new features are identified, but competition from other SaaS providers and potential industry disruption or customer preferences pose threats, along with defects in the platform or services.</pre>"
      ],
      "text/plain": [
       "<IPython.core.display.HTML object>"
      ]
     },
     "metadata": {},
     "output_type": "display_data"
    }
   ],
   "source": [
    "# summarize the contents of all files\n",
    "for document in documents[:5]:\n",
    "    # get the first found file name (multiple names are possible with duplicate files)\n",
    "    document_instances = await doc_client.get_document_instances(document[\"id\"])\n",
    "    file_name = document_instances[0][\"file_name\"]\n",
    "    \n",
    "    # get a default summarization of the document using GPT-3.5\n",
    "    display(HTML(f\"<h3>Summary: {file_name} (id={document['id']})</h3>\"))\n",
    "    try:\n",
    "        summary = await doc_client.get_document_summary(document[\"id\"], engine=\"gpt-3.5-turbo\")\n",
    "        display(HTML(f\"<pre>{summary['summary']}</pre>\"))\n",
    "    except ValueError:\n",
    "        display(HTML(f\"<pre>No summary available.</pre>\"))\n",
    "    "
   ]
  },
  {
   "cell_type": "markdown",
   "id": "cc8a4462-bb96-453b-ae98-341bc3d9b780",
   "metadata": {},
   "source": [
    "## Answer questions about specific documents\n",
    "\n",
    "You can use Kelvin to answer questions about specific documents.  Just pick a registered LLM engine and ask your question."
   ]
  },
  {
   "cell_type": "code",
   "execution_count": 60,
   "id": "767a8c51-4ab4-4a1e-b81c-306ffabe99a3",
   "metadata": {
    "tags": []
   },
   "outputs": [
    {
     "data": {
      "text/html": [
       "<strong>Question:</strong> How many debt instruments does the company have?"
      ],
      "text/plain": [
       "<IPython.core.display.HTML object>"
      ]
     },
     "metadata": {},
     "output_type": "display_data"
    },
    {
     "data": {
      "text/html": [
       "<strong>Answer:</strong> Two."
      ],
      "text/plain": [
       "<IPython.core.display.HTML object>"
      ]
     },
     "metadata": {},
     "output_type": "display_data"
    }
   ],
   "source": [
    "# answer questions\n",
    "question = \"How many debt instruments does the company have?\"\n",
    "answer = await doc_client.get_document_answer(1, \"gpt-3.5-turbo\", question)\n",
    "display(HTML(f\"<strong>Question:</strong> {question}\"))\n",
    "display(HTML(f\"<strong>Answer:</strong> {answer['answer']}\"))"
   ]
  },
  {
   "cell_type": "code",
   "execution_count": 89,
   "id": "a60c4d80-5fa4-491c-a4cc-6b4f7d11b187",
   "metadata": {
    "tags": []
   },
   "outputs": [
    {
     "data": {
      "text/html": [
       "<strong>Question:</strong> How do employees vest?"
      ],
      "text/plain": [
       "<IPython.core.display.HTML object>"
      ]
     },
     "metadata": {},
     "output_type": "display_data"
    },
    {
     "data": {
      "text/html": [
       "<strong>Answer:</strong> Employees vest in their ESOP accounts after two years of continuous employment with the company or upon reaching their 65th birthday."
      ],
      "text/plain": [
       "<IPython.core.display.HTML object>"
      ]
     },
     "metadata": {},
     "output_type": "display_data"
    }
   ],
   "source": [
    "# answer questions\n",
    "question = \"How do employees vest?\"\n",
    "answer = await doc_client.get_document_answer(2, \"gpt-3.5-turbo\", question)\n",
    "display(HTML(f\"<strong>Question:</strong> {question}\"))\n",
    "display(HTML(f\"<strong>Answer:</strong> {answer['answer']}\"))"
   ]
  },
  {
   "cell_type": "markdown",
   "id": "a8ae84bf-27b0-499d-be11-b26233271c63",
   "metadata": {},
   "source": [
    "## Build custom search workflows\n",
    "\n",
    "Write the exact search you want."
   ]
  },
  {
   "cell_type": "code",
   "execution_count": 90,
   "id": "29e78da0-3cbe-4657-a366-44baa8db7cf8",
   "metadata": {
    "tags": []
   },
   "outputs": [
    {
     "data": {
      "text/html": [
       "<h3>Salary Table</h3>"
      ],
      "text/plain": [
       "<IPython.core.display.HTML object>"
      ]
     },
     "metadata": {},
     "output_type": "display_data"
    },
    {
     "data": {
      "text/html": [
       "<div>\n",
       "<style scoped>\n",
       "    .dataframe tbody tr th:only-of-type {\n",
       "        vertical-align: middle;\n",
       "    }\n",
       "\n",
       "    .dataframe tbody tr th {\n",
       "        vertical-align: top;\n",
       "    }\n",
       "\n",
       "    .dataframe thead th {\n",
       "        text-align: right;\n",
       "    }\n",
       "</style>\n",
       "<table border=\"1\" class=\"dataframe\">\n",
       "  <thead>\n",
       "    <tr style=\"text-align: right;\">\n",
       "      <th></th>\n",
       "      <th>file_name</th>\n",
       "      <th>name</th>\n",
       "      <th>bonus</th>\n",
       "      <th>text</th>\n",
       "      <th>quantity</th>\n",
       "      <th>currency</th>\n",
       "    </tr>\n",
       "  </thead>\n",
       "  <tbody>\n",
       "    <tr>\n",
       "      <th>0</th>\n",
       "      <td>Employment Agreement - Lucille Bluth.docx</td>\n",
       "      <td>Lucille Bluth.</td>\n",
       "      <td>Yes, the employee has a bonus plan based on th...</td>\n",
       "      <td>$500,000,</td>\n",
       "      <td>500000.0</td>\n",
       "      <td>USD</td>\n",
       "    </tr>\n",
       "    <tr>\n",
       "      <th>1</th>\n",
       "      <td>Employment Agreement - Michael Bluth.docx</td>\n",
       "      <td>Michael Bluth.</td>\n",
       "      <td>Yes, the employee has a bonus plan.</td>\n",
       "      <td>$450,000,</td>\n",
       "      <td>450000.0</td>\n",
       "      <td>USD</td>\n",
       "    </tr>\n",
       "    <tr>\n",
       "      <th>2</th>\n",
       "      <td>Employment Agreement - Buster Bluth.docx</td>\n",
       "      <td>Buster Bluth</td>\n",
       "      <td>Yes, the employee is eligible to earn annual b...</td>\n",
       "      <td>$290,000,</td>\n",
       "      <td>290000.0</td>\n",
       "      <td>USD</td>\n",
       "    </tr>\n",
       "  </tbody>\n",
       "</table>\n",
       "</div>"
      ],
      "text/plain": [
       "                                   file_name            name   \n",
       "0  Employment Agreement - Lucille Bluth.docx  Lucille Bluth.  \\\n",
       "1  Employment Agreement - Michael Bluth.docx  Michael Bluth.   \n",
       "2   Employment Agreement - Buster Bluth.docx    Buster Bluth   \n",
       "\n",
       "                                               bonus       text  quantity   \n",
       "0  Yes, the employee has a bonus plan based on th...  $500,000,  500000.0  \\\n",
       "1                Yes, the employee has a bonus plan.  $450,000,  450000.0   \n",
       "2  Yes, the employee is eligible to earn annual b...  $290,000,  290000.0   \n",
       "\n",
       "  currency  \n",
       "0      USD  \n",
       "1      USD  \n",
       "2      USD  "
      ]
     },
     "metadata": {},
     "output_type": "display_data"
    }
   ],
   "source": [
    "# salary data\n",
    "salary_data = []\n",
    "\n",
    "# find all sentences or paragraphs containing salary\n",
    "segments = await doc_client.search_document_segment_contents(\"salary\")\n",
    "for segment in segments:\n",
    "    # get the first unique file name\n",
    "    document_instances = await doc_client.get_document_instances(segment[\"document_id\"])\n",
    "    file_name = document_instances[0][\"file_name\"]\n",
    "    \n",
    "    # get the name of the employee\n",
    "    employee_name = await doc_client.get_document_answer(segment[\"document_id\"], \"gpt-3.5-turbo\", \"Respond with only the name of the employee.\")\n",
    "    employee_bonus = await doc_client.get_document_answer(segment[\"document_id\"], \"gpt-3.5-turbo\", \"Does the employee have a bonus plan?.\")\n",
    "    \n",
    "    # get the text and extract monetary amounts\n",
    "    segment_text = await doc_client.get_document_segment(segment[\"id\"])\n",
    "    money_values = await nlp_client.get_money(segment_text['text'])\n",
    "    \n",
    "    for money in money_values['moneys']:\n",
    "        salary_data.append({\n",
    "            \"file_name\": file_name,\n",
    "            \"name\": employee_name[\"answer\"],\n",
    "            \"bonus\": employee_bonus[\"answer\"],\n",
    "            \"text\": money['text'],\n",
    "            \"quantity\": money['quantity'],\n",
    "            \"currency\": money['currency'],\n",
    "        })\n",
    "\n",
    "display(HTML(\"<h3>Salary Table</h3>\"))\n",
    "display(pandas.DataFrame(salary_data))"
   ]
  },
  {
   "cell_type": "markdown",
   "id": "29cb65bc-fd8d-49d9-b2d6-0bb2295cea3a",
   "metadata": {},
   "source": [
    "## Semantic Similarity with Kelvin Vector and Kelvin Embeddings\n",
    "\n",
    "Search using Kelvin Vector and Kelvin's legal-specific embeddings."
   ]
  },
  {
   "cell_type": "code",
   "execution_count": 103,
   "id": "3668e36b-8305-4654-882f-865c0812f44e",
   "metadata": {
    "tags": []
   },
   "outputs": [
    {
     "data": {
      "text/html": [
       "<strong>Employment Agreement - Lucille Bluth.docx:</strong>"
      ],
      "text/plain": [
       "<IPython.core.display.HTML object>"
      ]
     },
     "metadata": {},
     "output_type": "display_data"
    },
    {
     "data": {
      "text/html": [
       "<pre>  **4. Compensation** If there is a change in control of Bluth, as defined in\n",
       "the applicable agreements governing such change in control, and if the CFO's\n",
       "employment is terminated without cause or if the CFO resigns for good reason\n",
       "within 12 months following such change in control, then the CFO shall be\n",
       "entitled to receive  (i) a lump sum severance payment equal to two times her\n",
       "base salary and target bonus in effect immediately prior to such termination or\n",
       "resignation,  (ii) immediate vesting of all equity awards granted to her by the\n",
       "Company, and  (iii) continuation of health benefits for a period of 12 months\n",
       "following such termination or resignation.</pre><br />"
      ],
      "text/plain": [
       "<IPython.core.display.HTML object>"
      ]
     },
     "metadata": {},
     "output_type": "display_data"
    },
    {
     "data": {
      "text/html": [
       "<strong>Employment Agreement - Buster Bluth.docx:</strong>"
      ],
      "text/plain": [
       "<IPython.core.display.HTML object>"
      ]
     },
     "metadata": {},
     "output_type": "display_data"
    },
    {
     "data": {
      "text/html": [
       "<pre>  **3. Compensation**  Bluth shall pay Employee an annual salary of $290,000,\n",
       "payable in accordance with the Company's regular payroll practices. Employee\n",
       "shall also be eligible to earn annual bonuses based on the Company's achievement\n",
       "of specific financial goals.</pre><br />"
      ],
      "text/plain": [
       "<IPython.core.display.HTML object>"
      ]
     },
     "metadata": {},
     "output_type": "display_data"
    },
    {
     "data": {
      "text/html": [
       "<strong>Employment Agreement - Michael Bluth.docx:</strong>"
      ],
      "text/plain": [
       "<IPython.core.display.HTML object>"
      ]
     },
     "metadata": {},
     "output_type": "display_data"
    },
    {
     "data": {
      "text/html": [
       "<pre>  **3. Compensation**  Bluth shall pay Employee an annual salary of $450,000,\n",
       "payable in accordance with the Company's regular payroll practices. Employee\n",
       "shall also be eligible to earn annual bonuses based on the Company's achievement\n",
       "of specific financial goals.</pre><br />"
      ],
      "text/plain": [
       "<IPython.core.display.HTML object>"
      ]
     },
     "metadata": {},
     "output_type": "display_data"
    }
   ],
   "source": [
    "query = \"\"\"Retention bonuses are taxable income to the employee and must be added to the employee's compensation \n",
    "in the year in which they are awarded. In view of this, the company, as an additional retention incentive, will\n",
    "provide a \"gross up\" to employee income by paying the taxes for retention bonuses so that employees will receive \n",
    "the full amount indicated above \"net of taxes.\"\"\"\n",
    "\n",
    "segments = await doc_client.search_document_segment_vectors(query=query, vector_type=\"en-001-small\", k=3, threshold=10)\n",
    "for segment in segments:\n",
    "    # get the first unique file name\n",
    "    document_instances = await doc_client.get_document_instances(segment[\"document_segment\"][\"document_id\"])\n",
    "    file_name = document_instances[0][\"file_name\"]\n",
    "    \n",
    "    # get the text and extract monetary amounts\n",
    "    segment_text = await doc_client.get_document_segment(segment[\"document_segment\"][\"id\"])\n",
    "    \n",
    "    display(HTML(f\"<strong>{file_name}:</strong>\"))\n",
    "    display(HTML(f\"<pre>{textwrap.fill(segment_text['text'], 80)}</pre><br />\"))\n"
   ]
  },
  {
   "cell_type": "markdown",
   "id": "0cb28c1c-6fee-4805-9efc-8789dbe7c060",
   "metadata": {
    "tags": []
   },
   "source": [
    "## Semantic Similarity with Kelvin Vector and External Embeddings\n",
    "\n",
    "You can also use Kelvin Vector with external embeddings like those from OpenAI or Hugging Face models like T5.  In general, we have found our embeddings to outperform these generic embeddings."
   ]
  },
  {
   "cell_type": "code",
   "execution_count": 104,
   "id": "dfc657f5-f4c7-43ee-b171-01ad92833fd9",
   "metadata": {
    "tags": []
   },
   "outputs": [
    {
     "data": {
      "text/html": [
       "<strong>Tax Opinion.docx:</strong>"
      ],
      "text/plain": [
       "<IPython.core.display.HTML object>"
      ]
     },
     "metadata": {},
     "output_type": "display_data"
    },
    {
     "data": {
      "text/html": [
       "<pre>   Generally, foreign nationals are subject to withholding if they are engaged\n",
       "in a US trade or business, and receive a US-source payment of income. Depending\n",
       "on the country of residence of the foreign contractor, certain tax treaty\n",
       "provisions may provide an exemption from withholding.</pre><br />"
      ],
      "text/plain": [
       "<IPython.core.display.HTML object>"
      ]
     },
     "metadata": {},
     "output_type": "display_data"
    },
    {
     "data": {
      "text/html": [
       "<strong>Tax Opinion.docx:</strong>"
      ],
      "text/plain": [
       "<IPython.core.display.HTML object>"
      ]
     },
     "metadata": {},
     "output_type": "display_data"
    },
    {
     "data": {
      "text/html": [
       "<pre>   In conclusion, the Bluth Company should ensure that it complies with all\n",
       "federal and state laws and regulations regarding withholding of income from\n",
       "payments made to foreign contractors.</pre><br />"
      ],
      "text/plain": [
       "<IPython.core.display.HTML object>"
      ]
     },
     "metadata": {},
     "output_type": "display_data"
    },
    {
     "data": {
      "text/html": [
       "<strong>Tax Opinion.docx:</strong>"
      ],
      "text/plain": [
       "<IPython.core.display.HTML object>"
      ]
     },
     "metadata": {},
     "output_type": "display_data"
    },
    {
     "data": {
      "text/html": [
       "<pre>﻿ Subject: Tax opinion on withholding of payments made to foreign contractors\n",
       "Date: January 18, 2018  The Bluth Company should withhold income tax from\n",
       "payments made to foreign contractors.</pre><br />"
      ],
      "text/plain": [
       "<IPython.core.display.HTML object>"
      ]
     },
     "metadata": {},
     "output_type": "display_data"
    }
   ],
   "source": [
    "query = \"\"\"Retention bonuses are taxable income to the employee and must be added to the employee's compensation \n",
    "in the year in which they are awarded. In view of this, the company, as an additional retention incentive, will\n",
    "provide a \"gross up\" to employee income by paying the taxes for retention bonuses so that employees will receive \n",
    "the full amount indicated above \"net of taxes.\"\"\"\n",
    "\n",
    "segments = await doc_client.search_document_segment_vectors(query=query, vector_type=\"text-embedding-ada-002\", k=3, threshold=10)\n",
    "for segment in segments:\n",
    "    # get the first unique file name\n",
    "    document_instances = await doc_client.get_document_instances(segment[\"document_segment\"][\"document_id\"])\n",
    "    file_name = document_instances[0][\"file_name\"]\n",
    "    \n",
    "    # get the text and extract monetary amounts\n",
    "    segment_text = await doc_client.get_document_segment(segment[\"document_segment\"][\"id\"])\n",
    "    \n",
    "    display(HTML(f\"<strong>{file_name}:</strong>\"))\n",
    "    display(HTML(f\"<pre>{textwrap.fill(segment_text['text'], 80)}</pre><br />\"))\n"
   ]
  }
 ],
 "metadata": {
  "kernelspec": {
   "display_name": "Python 3 (ipykernel)",
   "language": "python",
   "name": "python3"
  },
  "language_info": {
   "codemirror_mode": {
    "name": "ipython",
    "version": 3
   },
   "file_extension": ".py",
   "mimetype": "text/x-python",
   "name": "python",
   "nbconvert_exporter": "python",
   "pygments_lexer": "ipython3",
   "version": "3.10.6"
  }
 },
 "nbformat": 4,
 "nbformat_minor": 5
}
