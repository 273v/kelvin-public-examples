{
 "cells": [
  {
   "cell_type": "code",
   "execution_count": 1,
   "id": "08b673be-8a38-42d6-83ea-3f5b869d9a03",
   "metadata": {
    "tags": []
   },
   "outputs": [],
   "source": [
    "# imports\n",
    "import datetime\n",
    "import textwrap\n",
    "from pathlib import Path\n",
    "\n",
    "# packages\n",
    "from IPython.display import HTML, display\n",
    "\n",
    "# kelvin imports\n",
    "from kelvin.research.fr.feed.updater import FRUpdater\n",
    "from kelvin.nlp.llm.engines.openai_engine import OpenAIEngine\n",
    "from kelvin.nlp.llm.summarize.recursive_split_summarizer import RecursiveSplitSummarizer\n",
    "from kelvin.nlp.llm.summarize.text_memoizer import TextMemoizer"
   ]
  },
  {
   "cell_type": "code",
   "execution_count": 2,
   "id": "00dde6dc-71ba-4327-8ac4-b5f2f1aa8d32",
   "metadata": {
    "tags": []
   },
   "outputs": [],
   "source": [
    "# setup both GPT 3.5 and 4 engines\n",
    "llm_gpt35 = OpenAIEngine(model=\"gpt-3.5-turbo\")\n",
    "llm_gpt4 = OpenAIEngine(model=\"gpt-4\")"
   ]
  },
  {
   "cell_type": "code",
   "execution_count": 3,
   "id": "c68ff163-5694-41b8-a465-d8f1735aed45",
   "metadata": {
    "tags": []
   },
   "outputs": [],
   "source": [
    "# setup summarizer and memoizer\n",
    "summarizer = RecursiveSplitSummarizer(engine=llm_gpt35,\n",
    "                                      context_role=\"regulatory attorney\",\n",
    "                                      summary_sentence_length=4)\n",
    "\n",
    "memoizer = TextMemoizer(engine=llm_gpt4, \n",
    "                        context_role=\"super chill pirate lawyer\",\n",
    "                        context_type=\"Monday morning email memo\")"
   ]
  },
  {
   "cell_type": "code",
   "execution_count": null,
   "id": "9bc69b6c-0583-406d-bb2d-b238eab5c24d",
   "metadata": {
    "tags": []
   },
   "outputs": [
    {
     "data": {
      "text/html": [
       "<h3>Proposed Information Collections; Comment Request (No. 89)</h3>"
      ],
      "text/plain": [
       "<IPython.core.display.HTML object>"
      ]
     },
     "metadata": {},
     "output_type": "display_data"
    },
    {
     "data": {
      "text/html": [
       "<strong>Summary:</strong><pre>The Alcohol and Tobacco Tax and Trade Bureau is requesting comments to reduce\n",
       "paperwork and respondent burden for several information collections related to\n",
       "alcohol and tobacco. The public can submit comments online or by mail,\n",
       "referencing the relevant collection's title, form, or recordkeeping requirement\n",
       "number and OMB control number. The TTB must receive written comments by June 2,\n",
       "2023. The document provides information on two separate OMB control numbers\n",
       "related to hard cider labels and a pilot test for a combined alcohol excise tax\n",
       "return and simplified operations report. The first OMB control number has a\n",
       "total burden of 7 hours from 20 respondents, while the second has a total burden\n",
       "of 58,000 hours from 10,000 respondents. The text goes into detail about the\n",
       "regulations and requirements of each OMB control number.</pre><br />"
      ],
      "text/plain": [
       "<IPython.core.display.HTML object>"
      ]
     },
     "metadata": {},
     "output_type": "display_data"
    },
    {
     "data": {
      "text/html": [
       "<strong>Memo:</strong><hr /><pre>Ahoy Mates!  Here be an update for ye all lovely scallywags on this fine Monday\n",
       "mornin'! The Alcohol and Tobacco Tax and Trade Bureau (TTB) be askin' for some\n",
       "comments to help reduce paperwork and respondent burden in relation to our\n",
       "beloved treasures of alcohol and tobacco. Aye, ye heard that right, they be\n",
       "seekin' our opinions, so let yer voice be heard!  Should ye wish to contribute\n",
       "to this worthy endeavor, ye can submit yer thoughts online or by mail, but\n",
       "remember to include the collection's title, form, or recordkeeping requirement\n",
       "number and the OMB control number. Time be runnin' out, so be sure to get your\n",
       "written comments to the TTB no later than June 2nd, 2023.  This document be\n",
       "offerin' information on two separate OMB control numbers. The first one be\n",
       "related to hard cider labels, and has a total burden of 7 hours from 20\n",
       "respondents. The second one be discussin' a pilot test for a combined alcohol\n",
       "excise tax return and a simplified operations report, with a total burden of\n",
       "58,000 hours from 10,000 respondents. As ye go through the document, ye'll find\n",
       "plenty more details about the regulations and requirements related to each OMB\n",
       "control number, so it be worth a gander.  So, me hearties, don't miss this\n",
       "chance to get involved and sway the winds in our favor! Let's show them\n",
       "landlubbers at the TTB that we pirates have a keen mind, as well as a taste for\n",
       "fine rum and tobacco!  May fair winds and smooth seas guide you. Arrrr!  [Your\n",
       "Name] The Super Chill Pirate Lawyer</pre><br />"
      ],
      "text/plain": [
       "<IPython.core.display.HTML object>"
      ]
     },
     "metadata": {},
     "output_type": "display_data"
    },
    {
     "data": {
      "text/html": [
       "<h3>Funding Opportunities: Bank Enterprise Award (BEA) Program; FY 2023 Funding Round</h3>"
      ],
      "text/plain": [
       "<IPython.core.display.HTML object>"
      ]
     },
     "metadata": {},
     "output_type": "display_data"
    },
    {
     "data": {
      "text/html": [
       "<strong>Summary:</strong><pre>The Community Development Financial Institutions Fund has issued a notice\n",
       "inviting applications for the 2023 funding round of the Bank Enterprise Award\n",
       "program, which awards grants to depository institutions that increase loans,\n",
       "investments, service activities and technical assistance to residents and\n",
       "businesses in economically distressed communities. The grant is based on an\n",
       "applicant's increase in qualified activities and the funding available is up to\n",
       "$70 million. The document provides instructions and eligibility criteria for the\n",
       "program, outlines various requirements for the application process, eligibility\n",
       "guidelines for CDFI-related activities and provides details on eligible loans\n",
       "and financing activities. The document also discusses the Paperwork Reduction\n",
       "Act and mentions that organizations can participate in webinars or information\n",
       "sessions to learn about the CDFI Fund's programs.</pre><br />"
      ],
      "text/plain": [
       "<IPython.core.display.HTML object>"
      ]
     },
     "metadata": {},
     "output_type": "display_data"
    },
    {
     "data": {
      "text/html": [
       "<strong>Memo:</strong><hr /><pre>Ahoy, me hearties!  Tis be a fine Monday mornin', and I be bringin' ye some\n",
       "treasured news from the seven seas of community development. The Community\n",
       "Development Financial Institutions Fund (CDFI Fund) has hoisted their colors and\n",
       "be invitin' applications for the 2023 Bank Enterprise Award (BEA) program. Arrr,\n",
       "this be a bountiful opportunity for those depository institutions that be\n",
       "seekin' to increase their loans, investments, service activities, and technical\n",
       "assistance to our brethren in economically distressed waters.  As ye navigate\n",
       "the treacherous tides of the application process, take heed to follow the map\n",
       "outlined in the CDFI Fund's notice. Keep a keen eye on the eligibility criteria,\n",
       "requirements for application, and guidelines for CDFI-related activities.\n",
       "Remember, me hearties, dead men sign no deals: ensure ye stay informed of\n",
       "eligible loans and financing activities to keep yer vessel afloat.  Now hoist\n",
       "the Jolly Roger, with a treasure chest of up to $70 million doubloons up for\n",
       "grabs, it be a fine opportunity fer those institutions that increase their\n",
       "qualified activities. Yarr, the more ye give, the more ye may receive!  To help\n",
       "ye swab the deck and prepare fer this venture, the CDFI Fund be offerin'\n",
       "webinars and information sessions. Learn from these sage guides and become a\n",
       "master of the CDFI Fund's ways. It be said that knowledge be the most valuable\n",
       "plunder of all, sailors!  Lastly, as ye set sail on this voyage, the Paperwork\n",
       "Reduction Act be your trusty compass. The act be lookin' out for ye by reducin'\n",
       "paperwork and less time charting yer course.  Be sure to chart yer course\n",
       "carefully, and Godspeed on this rewarding adventure, me fellow pirate lawyers!\n",
       "May the wind be ever in yer sails, and may yer compass always point true!  Fair\n",
       "winds and following seas,  [Your Name]  Captain of the Super Chill Pirate Lawyer\n",
       "Crew</pre><br />"
      ],
      "text/plain": [
       "<IPython.core.display.HTML object>"
      ]
     },
     "metadata": {},
     "output_type": "display_data"
    },
    {
     "data": {
      "text/html": [
       "<h3>Proposed Collection; Comment Request for Form 8908</h3>"
      ],
      "text/plain": [
       "<IPython.core.display.HTML object>"
      ]
     },
     "metadata": {},
     "output_type": "display_data"
    },
    {
     "data": {
      "text/html": [
       "<strong>Summary:</strong><pre>The IRS is seeking comments on the proposed and/or continuing information\n",
       "collections for Form 8908, which allows qualified contractors to claim a credit\n",
       "for each qualified energy-efficient home sold. The form remains unchanged, and\n",
       "responses must be received by June 2, 2023. The IRS is seeking feedback on the\n",
       "necessity, accuracy, and practical utility of the collection of information, as\n",
       "well as ways to enhance its quality and minimize the burden on respondents. The\n",
       "estimated number of respondents is 1,980, and the estimated total annual burden\n",
       "hours are 5,128.</pre><br />"
      ],
      "text/plain": [
       "<IPython.core.display.HTML object>"
      ]
     },
     "metadata": {},
     "output_type": "display_data"
    },
    {
     "data": {
      "text/html": [
       "<strong>Memo:</strong><hr /><pre>Ahoy Mates,  As ye all know, Monday mornin's be the time we set sail with some\n",
       "important updates. Today, let me share some loot from landlubber's territory,\n",
       "the IRS.   They be seekin' comments on the proposed and/or continuin'\n",
       "information collection of Form 8908, which allows qualified contractors to claim\n",
       "a credit for them qualified energy-efficient homes sold. The form remains the\n",
       "same, with no changes – a sturdy vessel, if ye ask me.  Now, don't be dilly-\n",
       "dallyin', as responses must be received by June 2, 2023. The IRS be lookin' for\n",
       "yer thoughts on the necessity, accuracy, and practical utility of this\n",
       "collection of information. In addition, they be hopin' to enhance its quality\n",
       "and keep the burden on respondents as light as a feather.  If ye be wonderin'\n",
       "about the reach of this fine treasure map, the estimated number of respondents\n",
       "is 1,980, and the estimated total annual burden hours be around 5,128.  So weigh\n",
       "yer anchors and start sailin' into this sea of opinions. Let's make sure the IRS\n",
       "knows what we think about Form 8908, and may the wind always be at our backs.\n",
       "Fair winds,  [Your Name]  Super Chill Pirate Lawyer</pre><br />"
      ],
      "text/plain": [
       "<IPython.core.display.HTML object>"
      ]
     },
     "metadata": {},
     "output_type": "display_data"
    },
    {
     "data": {
      "text/html": [
       "<h3>Notice of OFAC Sanctions Actions</h3>"
      ],
      "text/plain": [
       "<IPython.core.display.HTML object>"
      ]
     },
     "metadata": {},
     "output_type": "display_data"
    },
    {
     "data": {
      "text/html": [
       "<strong>Summary:</strong><pre>The Office of Foreign Assets Control has added a person named Ashot Mkrtkychev\n",
       "to their list of blocked individuals due to their attempts to engage in\n",
       "restricted activities outlined in an executive order. All their property and\n",
       "interests subject to US jurisdiction are now blocked, and US citizens are\n",
       "generally prohibited from transacting with them. More information can be found\n",
       "on the OFAC website.</pre><br />"
      ],
      "text/plain": [
       "<IPython.core.display.HTML object>"
      ]
     },
     "metadata": {},
     "output_type": "display_data"
    },
    {
     "data": {
      "text/html": [
       "<strong>Memo:</strong><hr /><pre>Ahoy, mateys!  A fine Monday mornin' it be to ye all in our legal plunderin'\n",
       "crew! The seas of litigation be vast, but fear not, for the tide is with us. As\n",
       "yer trusty cap'n of legal matters, I be bringin' ye a new piece of treasure map\n",
       "to navigate the waters of maritime law, arrr.  Time to man the legal cannons,\n",
       "for the Office of Foreign Assets Control (OFAC) 'tis back with another scallywag\n",
       "added to their list of blocked individuals due to be walking the plank. That\n",
       "rotten seadog be named Ashot Mkrtkychev, who dared to engage in restricted\n",
       "activities, blimey!  Ye must batten down the hatches, as all of Ashot's property\n",
       "and interests that be subject to US jurisdiction are now blocked like the\n",
       "Sargasso Sea, and our fellow US citizen shipmates be generally prohibited from\n",
       "transactin’ with the likes of Ashot. Keep a keen eye on the crow's nest, and\n",
       "steer clear of any undesirable transactions, me hearties.  If ye be wishin' to\n",
       "dive deeper into this treasure trove of information, plot yer course to the OFAC\n",
       "website to gain more knowledge on this here matter.  Fair winds and calm seas to\n",
       "all, and let us sail the seas of legal plunder together in our quest for\n",
       "justice! Keep yer cutlasses sharp and yer wits sharper, for another intriguing\n",
       "week at our law-abidin' pirate haven.  Yarrrrly yours,  [Your Name]  Captain of\n",
       "Legal Matters and Protector of the Seven Seas (a.k.a. Super Chill Pirate Lawyer)</pre><br />"
      ],
      "text/plain": [
       "<IPython.core.display.HTML object>"
      ]
     },
     "metadata": {},
     "output_type": "display_data"
    },
    {
     "data": {
      "text/html": [
       "<h3>Notice of OFAC Sanctions Actions</h3>"
      ],
      "text/plain": [
       "<IPython.core.display.HTML object>"
      ]
     },
     "metadata": {},
     "output_type": "display_data"
    },
    {
     "data": {
      "text/html": [
       "<strong>Summary:</strong><pre>OFAC has removed certain individuals and entities from the SDN List and\n",
       "unblocked their property and interests in property. The list includes parties\n",
       "from Peru, Argentina, Colombia, and Mexico and can be found on the OFAC website.</pre><br />"
      ],
      "text/plain": [
       "<IPython.core.display.HTML object>"
      ]
     },
     "metadata": {},
     "output_type": "display_data"
    },
    {
     "data": {
      "text/html": [
       "<strong>Memo:</strong><hr /><pre>Ahoy there Mateys!  I be hopin' ye had a swashbuckling weekend and ar' ready to\n",
       "navigate the seas of legal plunder once more! As we be sailin' into this fine\n",
       "Monday mornin', let me be droppin' some updates into yer treasure chest – OFAC\n",
       "be the topic du jour!   Now gather ‘round me hearties, for some news from the\n",
       "OFAC front! The grandmasters of shady lists have swung their cutlass and removed\n",
       "a few scallywags from the dreaded SDN. By the stars, me hearties! This be\n",
       "includin' various parties from the lands of Peru, Argentina, Colombia, and\n",
       "Mexico. So, if ye be crossin' paths with these sailors on the high seas, it's\n",
       "now smooth sailin' ahead.  To be steerin' clear of any future trouble, I would\n",
       "be recommendin' all ye landlubbers to have a gander at the updated SDN List on\n",
       "the OFAC website posthaste. Remember, knowledge be the key to traversin' the\n",
       "vast and treacherous waters we be callin' the legal profession.  May the winds\n",
       "be at your backs, and have a fair-weathered week ahead, me hearties.  Yo ho ho,\n",
       "[Your Name]  Super Chill Pirate Lawyer and Captain of Legalese</pre><br />"
      ],
      "text/plain": [
       "<IPython.core.display.HTML object>"
      ]
     },
     "metadata": {},
     "output_type": "display_data"
    },
    {
     "data": {
      "text/html": [
       "<h3>Publication of Venezuela Sanctions Regulations Web General Licenses 29, 30, 30A, 31, and 31A</h3>"
      ],
      "text/plain": [
       "<IPython.core.display.HTML object>"
      ]
     },
     "metadata": {},
     "output_type": "display_data"
    },
    {
     "data": {
      "text/html": [
       "<strong>Summary:</strong><pre>The Office of Foreign Assets Control (OFAC) has issued five general licenses\n",
       "under the Venezuela Sanctions program, allowing certain transactions related to\n",
       "non-governmental organizations' humanitarian, democracy-building, education,\n",
       "development, and environmental activities, as well as operations or use of ports\n",
       "and airports in Venezuela. GL 30A was the latest license issued on February 2,\n",
       "2021. On January 4, 2021, General License No. 31 was replaced by General License\n",
       "No. 31A, allowing certain transactions involving the IV Venezuelan National\n",
       "Assembly, the Interim President of Venezuela, and certain other persons\n",
       "authorized by the license. The licenses have limitations, and certain\n",
       "transactions remain prohibited. Compliance with other federal agencies'\n",
       "requirements is still necessary.</pre><br />"
      ],
      "text/plain": [
       "<IPython.core.display.HTML object>"
      ]
     },
     "metadata": {},
     "output_type": "display_data"
    },
    {
     "data": {
      "text/html": [
       "<strong>Memo:</strong><hr /><pre>Ahoy there, me hearties!   As we embark on this fine Monday mornin', I be\n",
       "bringin' some important legal tidings for ye to be aware of. Yaaarrr!  The\n",
       "Office of Foreign Assets Control (OFAC) has cast its gaze upon our adventures in\n",
       "Venezuela and issued five general licenses to navigate that treacherous sea a\n",
       "bit more safely. These licenses apply to non-governmental organizations’\n",
       "humanitarian, democracy-building, education, development, and environmental\n",
       "activities, as well as our operations or use of Venezuelan ports and airports.\n",
       "Cap'n, be sure to mind these licenses and keep yer course true.  The latest\n",
       "license, General License 30A (GL 30A), be dated February 2, 2021, and joins the\n",
       "fleet as our newest ship o' legal protection. Moreover, General License No. 31’s\n",
       "already been replaced by General License No. 31A on January 4, 2021. This\n",
       "permits certain transactions involvin' the IV Venezuelan National Assembly, the\n",
       "Interim President of Venezuela, and some others endorsed by the license.\n",
       "Despite these new treasures, beware that there still be limitations and certain\n",
       "transactions that remain as forbidden as cursed doubloons. Also, remember to\n",
       "swab the compliance decks with other federal agencies' requirements as we\n",
       "continue our journey in Venezuela.  Keep yer eyes on the mast and stay updated\n",
       "on these nautical legal maneuvers. Fair winds and smooth sailin' to ye all on\n",
       "this fine Monday mornin'!  Yours in buccaneer legal prowess,  [Your Name]\n",
       "Pirate Lawyer Extraordinaire</pre><br />"
      ],
      "text/plain": [
       "<IPython.core.display.HTML object>"
      ]
     },
     "metadata": {},
     "output_type": "display_data"
    },
    {
     "data": {
      "text/html": [
       "<h3>Publication of Venezuela Sanctions Regulations Web General Licenses 32, 33, 34, 34A, and 35</h3>"
      ],
      "text/plain": [
       "<IPython.core.display.HTML object>"
      ]
     },
     "metadata": {},
     "output_type": "display_data"
    },
    {
     "data": {
      "text/html": [
       "<strong>Summary:</strong><pre>The Office of Foreign Assets Control has published five general licenses related\n",
       "to transactions with the government of Venezuela, despite sanctions. These\n",
       "licenses cover personal maintenance, air ambulance services, transactions with\n",
       "government officials, and administrative transactions. US persons making\n",
       "payments to Venezuela must submit reports including names, addresses and amounts\n",
       "paid. The initial report is due on February 10, 2020, followed by subsequent\n",
       "reports on August 10th and February 10th of the following year. Reports should\n",
       "be submitted to the Office of Foreign Assets Control and the Department of\n",
       "State.</pre><br />"
      ],
      "text/plain": [
       "<IPython.core.display.HTML object>"
      ]
     },
     "metadata": {},
     "output_type": "display_data"
    }
   ],
   "source": [
    "# setup Federal Register source and date range\n",
    "fr_source = FRUpdater()\n",
    "start_date=datetime.date(2023, 4, 3)\n",
    "end_date=datetime.date(2023, 4, 5)\n",
    "\n",
    "# setup summarizer\n",
    "async for doc in fr_source.get_all_documents(start_date, end_date, progress=False):    \n",
    "    # only process Treasury documents\n",
    "    if \"Treasury Department\" not in doc['agency_names']:\n",
    "        continue\n",
    "        \n",
    "    # show the document title\n",
    "    display(HTML(f\"<h3>{doc['title']}</h3>\"))\n",
    "    \n",
    "    # write a summary\n",
    "    summary = summarizer.get_summary(doc[\"text\"], progress=False)\n",
    "    display(HTML(f\"<strong>Summary:</strong><pre>{textwrap.fill(summary, 80)}</pre><br />\"))\n",
    "    \n",
    "    # now turn the summary into a memo\n",
    "    memo = memoizer.get_summary(summary, progress=False)\n",
    "    display(HTML(f\"<strong>Memo:</strong><hr /><pre>{textwrap.fill(memo, 80)}</pre><br />\"))   "
   ]
  }
 ],
 "metadata": {
  "kernelspec": {
   "display_name": "Python 3 (ipykernel)",
   "language": "python",
   "name": "python3"
  },
  "language_info": {
   "codemirror_mode": {
    "name": "ipython",
    "version": 3
   },
   "file_extension": ".py",
   "mimetype": "text/x-python",
   "name": "python",
   "nbconvert_exporter": "python",
   "pygments_lexer": "ipython3",
   "version": "3.10.6"
  }
 },
 "nbformat": 4,
 "nbformat_minor": 5
}
