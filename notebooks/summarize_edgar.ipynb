{
 "cells": [
  {
   "cell_type": "code",
   "execution_count": 1,
   "id": "223275cc-5527-4334-aec2-284a4b6a80d9",
   "metadata": {
    "tags": []
   },
   "outputs": [],
   "source": [
    "# imports\n",
    "import datetime\n",
    "import textwrap\n",
    "from pathlib import Path\n",
    "\n",
    "# packages\n",
    "from IPython.display import HTML, display\n",
    "\n",
    "# kelvin imports\n",
    "from kelvin.nlp.llm.engines.openai_engine import OpenAIEngine\n",
    "from kelvin.nlp.llm.summarize.recursive_split_summarizer import RecursiveSplitSummarizer, ChunkUnit\n",
    "from kelvin.nlp.llm.summarize.text_memoizer import TextMemoizer\n",
    "from kelvin.ocr.tesseract.local_engine import LocalEngine\n",
    "from kelvin.research.edgar.feed.updater import EDGARFeedUpdater\n",
    "from kelvin.research.edgar.filing.parser import FilingParser, uudecode"
   ]
  },
  {
   "cell_type": "code",
   "execution_count": 2,
   "id": "c3b933fe-a012-4ea2-9b01-cd0b4dad46c6",
   "metadata": {
    "tags": []
   },
   "outputs": [],
   "source": [
    "# We'll use two LLMs for this example: GPT-3.5 and GPT-4\n",
    "llm_gpt35 = OpenAIEngine(model=\"gpt-3.5-turbo\")\n",
    "llm_gpt4 = OpenAIEngine(model=\"gpt-4\")\n",
    "\n",
    "# Setup a default summarizer with 3.5\n",
    "summarizer = RecursiveSplitSummarizer(engine=llm_gpt35,\n",
    "                                      chunk_unit=ChunkUnit.SECTIONS,\n",
    "                                      summary_token_length=300)"
   ]
  },
  {
   "cell_type": "code",
   "execution_count": 3,
   "id": "b5e89624-39d6-4045-9d7a-0f3514794776",
   "metadata": {
    "tags": []
   },
   "outputs": [],
   "source": [
    "# Kelvin supports multiple OCR engines, including both local (tesseract, PaddlePaddle) and remote (AWS, Azure, Kelvin) engines\n",
    "ocr_engine = LocalEngine()"
   ]
  },
  {
   "cell_type": "code",
   "execution_count": 4,
   "id": "7d71312e-9eac-42aa-85fe-c7d5d0e2e78b",
   "metadata": {
    "tags": []
   },
   "outputs": [],
   "source": [
    "# for recurring use cases, you can keep a local cache of EDGAR feed files to dramatically reduce search/processing time.\n",
    "# download filings for this quarter\n",
    "# edgar_feed.download_all_filings(2022, 1)"
   ]
  },
  {
   "cell_type": "code",
   "execution_count": 5,
   "id": "b820ad04-2e5e-4190-8e07-82ab9008ac60",
   "metadata": {
    "tags": []
   },
   "outputs": [
    {
     "data": {
      "text/html": [
       "<h2>Silverback Therapeutics, Inc.: S-8 20220103</h2>"
      ],
      "text/plain": [
       "<IPython.core.display.HTML object>"
      ]
     },
     "metadata": {},
     "output_type": "display_data"
    },
    {
     "data": {
      "text/html": [
       "<h3>S-8 (#1)</h3>"
      ],
      "text/plain": [
       "<IPython.core.display.HTML object>"
      ]
     },
     "metadata": {},
     "output_type": "display_data"
    },
    {
     "data": {
      "text/html": [
       "<pre>Silverback Therapeutics has filed a Form S-8 registration statement with the SEC\n",
       "to register additional shares of common stock for the 2020 Equity Incentive Plan\n",
       "and the 2020 Employee Stock Purchase Plan in order to allow for annual automatic\n",
       "increases in the number of shares of common stock reserved for issuance under\n",
       "each plan. The proposed maximum aggregate offering price is $14,155,463. The\n",
       "Registration Statement was signed by the CEO, CFO, and Board of Directors, and\n",
       "previously filed documents with the Securities and Exchange Commission are\n",
       "incorporated by reference.</pre>"
      ],
      "text/plain": [
       "<IPython.core.display.HTML object>"
      ]
     },
     "metadata": {},
     "output_type": "display_data"
    },
    {
     "data": {
      "text/html": [
       "<h3>EX-5.1 (#2)</h3>"
      ],
      "text/plain": [
       "<IPython.core.display.HTML object>"
      ]
     },
     "metadata": {},
     "output_type": "display_data"
    },
    {
     "data": {
      "text/html": [
       "<pre>Cooley LLP provides a legal opinion on the offering of over 2 million shares of\n",
       "Common Stock by Silverback Therapeutics as part of an equity incentive plan and\n",
       "employee stock purchase plan. The shares are deemed validly issued, fully paid,\n",
       "and nonassessable. Cooley LLP consents to this opinion being filed as an exhibit\n",
       "to the Registration Statement.</pre>"
      ],
      "text/plain": [
       "<IPython.core.display.HTML object>"
      ]
     },
     "metadata": {},
     "output_type": "display_data"
    },
    {
     "data": {
      "text/html": [
       "<h3>EX-23.1 (#3)</h3>"
      ],
      "text/plain": [
       "<IPython.core.display.HTML object>"
      ]
     },
     "metadata": {},
     "output_type": "display_data"
    },
    {
     "data": {
      "text/html": [
       "<pre>Silverback Therapeutics includes a consent of Ernst & Young LLP for their report\n",
       "on the financial statements in the registration statement for their incentive\n",
       "plan and employee stock purchase plan. It is dated January 3, 2022, and has been\n",
       "filed with the SEC.</pre>"
      ],
      "text/plain": [
       "<IPython.core.display.HTML object>"
      ]
     },
     "metadata": {},
     "output_type": "display_data"
    },
    {
     "data": {
      "text/html": [
       "<h3>GRAPHIC (#4)</h3>"
      ],
      "text/plain": [
       "<IPython.core.display.HTML object>"
      ]
     },
     "metadata": {},
     "output_type": "display_data"
    },
    {
     "data": {
      "text/html": [
       "<pre>Cooley</pre>"
      ],
      "text/plain": [
       "<IPython.core.display.HTML object>"
      ]
     },
     "metadata": {},
     "output_type": "display_data"
    }
   ],
   "source": [
    "# Setup an EDGAR feed class\n",
    "edgar_feed = EDGARFeedUpdater()\n",
    "\n",
    "# iterate through all filing\n",
    "for file_name, filing_buffer in edgar_feed.stream_all_filings(year=2022, quarter=1):\n",
    "    # parse the filing into 1+ documents\n",
    "    filing = FilingParser(filing_buffer)\n",
    "    \n",
    "    # get filer/company name for display\n",
    "    filer_name = filing.metadata.get(\"CONFORMED-NAME\", filing.metadata.get(\"COMPANY-NAME\", None))\n",
    "    form_type = filing.metadata.get(\"TYPE\", filing.metadata.get(\"FORM-TYPE\", None))\n",
    "    filing_date = filing.metadata.get(\"FILING-DATE\", None)\n",
    "\n",
    "    display(HTML(f\"<h2>{filer_name}: {form_type} {filing_date}</h2>\"))\n",
    "\n",
    "    for doc in filing.stream():\n",
    "        # header for each document/exhibit\n",
    "        doc_sequence = doc[\"metadata\"].get(\"SEQUENCE\", None)\n",
    "        doc_description = doc[\"metadata\"].get(\"DESCRIPTION\", None)\n",
    "        display(HTML(f\"<h3>{doc_description} (#{doc_sequence})</h3>\"))\n",
    "        \n",
    "        if doc_description in [\"GRAPHIC\"]:\n",
    "            summary = ocr_engine.process_sync(uudecode(doc['raw'])).decode('utf-8')\n",
    "        else:\n",
    "            # get summary\n",
    "            summary = summarizer.get_summary(\n",
    "                doc['text'],\n",
    "                context_type=f\"EDGAR {form_type} filing\",\n",
    "            )\n",
    "        \n",
    "        display(HTML(f\"<pre>{textwrap.fill(summary, 80)}</pre>\"))\n",
    "        \n",
    "\n",
    "    # stop after the first filing\n",
    "    break"
   ]
  }
 ],
 "metadata": {
  "kernelspec": {
   "display_name": "Python 3 (ipykernel)",
   "language": "python",
   "name": "python3"
  },
  "language_info": {
   "codemirror_mode": {
    "name": "ipython",
    "version": 3
   },
   "file_extension": ".py",
   "mimetype": "text/x-python",
   "name": "python",
   "nbconvert_exporter": "python",
   "pygments_lexer": "ipython3",
   "version": "3.10.6"
  }
 },
 "nbformat": 4,
 "nbformat_minor": 5
}
