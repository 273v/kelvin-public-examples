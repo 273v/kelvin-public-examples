{
 "cells": [
  {
   "cell_type": "code",
   "execution_count": 1,
   "id": "1604642e-4d71-4521-99d9-4e5d57776320",
   "metadata": {
    "tags": []
   },
   "outputs": [],
   "source": [
    "# imports\n",
    "from pathlib import Path\n",
    "import pandas\n",
    "\n",
    "# kelvin imports\n",
    "from kelvin.nlp.llm.engines.openai_engine import OpenAIEngine\n",
    "from kelvin.nlp.llm.qa.recursive_split_answerer import RecursiveSplitAnswerer\n",
    "from kelvin.nlp.llm.summarize.invoice_summarizer import InvoiceMatterSummarizer\n",
    "from kelvin.billing.sources.ledes.ledes_1998 import LEDES1998B\n",
    "\n",
    "# setup the engine\n",
    "llm_gpt4 = OpenAIEngine(model=\"gpt-4\")"
   ]
  },
  {
   "cell_type": "code",
   "execution_count": 10,
   "id": "72cf7d54-e14d-4881-8916-50e525921c62",
   "metadata": {
    "tags": []
   },
   "outputs": [
    {
     "name": "stdout",
     "output_type": "stream",
     "text": [
      "The given text includes summaries of five legal invoices covering the period from April to December 2021. One invoice pertains to legal research on case law regarding theft of business ideas, with timekeepers billing across various tasks including communicating with clients, document and file management, and pleadings, among others. Another invoice relates to legal services provided for the Kwik-E-Mart franchise sale, with a breakdown of each timekeeper's contributions, their associated task codes and percentages, and the dates and descriptions of their work. The remaining invoices cover legal research on food safety regulations, drafting and negotiating a purchase/merger agreement, and legal research related to a range of activities such as drafting, reviewing, and revising contracts, researching relevant case law, and communicating with clients and third parties. The invoices provide a summary of the legal work performed and individual contributions of each timekeeper, including partner, senior associates, associates, and paralegals. Overall, the legal invoices highlight the variety of legal services rendered, the specific activities undertaken, and the task codes used, along with detail about each timekeeper's role and contribution.\n"
     ]
    }
   ],
   "source": [
    "# load the invoice\n",
    "ledes_file = LEDES1998B(file_path=Path(\"data/sample_ledes.txt\"))\n",
    "invoice_summarizer = InvoiceMatterSummarizer(engine=llm_gpt4, ledes_file=ledes_file)\n",
    "print(invoice_summarizer.get_summary())"
   ]
  },
  {
   "cell_type": "code",
   "execution_count": 11,
   "id": "eddaf4c3-9812-47c6-a43d-41ef8ab4db1c",
   "metadata": {
    "tags": []
   },
   "outputs": [
    {
     "name": "stderr",
     "output_type": "stream",
     "text": [
      "Answering from chunks...: 100%|████████████████████████████████████████████████████████████████████████████████████████████████████████████████████████████████████████████████████████| 2/2 [00:04<00:00,  2.06s/it]\n",
      "Answering from chunks...: 100%|████████████████████████████████████████████████████████████████████████████████████████████████████████████████████████████████████████████████████████| 2/2 [00:03<00:00,  1.60s/it]\n"
     ]
    },
    {
     "name": "stdout",
     "output_type": "stream",
     "text": [
      "The legal team spent billable time related to data security/privacy/cybersecurity in BURNS-SNP-3 with task code MF20.\n"
     ]
    }
   ],
   "source": [
    "answerer = RecursiveSplitAnswerer(engine=llm_gpt4)\n",
    "print(answerer.get_answer(invoice_summarizer.raw_summary,\n",
    "                          \"Was any billable time related to cybersecurity?\"))"
   ]
  }
 ],
 "metadata": {
  "kernelspec": {
   "display_name": "Python 3 (ipykernel)",
   "language": "python",
   "name": "python3"
  },
  "language_info": {
   "codemirror_mode": {
    "name": "ipython",
    "version": 3
   },
   "file_extension": ".py",
   "mimetype": "text/x-python",
   "name": "python",
   "nbconvert_exporter": "python",
   "pygments_lexer": "ipython3",
   "version": "3.10.6"
  }
 },
 "nbformat": 4,
 "nbformat_minor": 5
}
